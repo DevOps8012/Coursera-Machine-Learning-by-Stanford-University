{
 "cells": [
  {
   "cell_type": "markdown",
   "metadata": {},
   "source": [
    "1. You are training a classification model with logistic regression. Which of the following statements are true? Check all that apply.\n",
    "    - Adding many new features to the model makes it more likely to overfit the training set.\n",
    "2. Suppose you ran logistic regression twice, once with λ=0, and once with λ=1. One of the times, you got parameters θ=[26.2965.41], and the other time you got θ=[2.751.32]. However, you forgot which value of λ corresponds to which value of θ. Which one do you think corresponds to λ=1?\n",
    "    - θ=[2.75 1.32]\n",
    "3. Which of the following statements about regularization are true? Check all that apply.\n",
    "    - Consider a classification problem. Adding regularization may cause your classifier to incorrectly classify some training examples (which it had correctly classified when not using regularization, i.e. when λ=0).\n",
    "4. In which one of the following figures do you think the hypothesis has overfit the training set?\n",
    "![](pictures\\3.png)\n",
    "5. In which one of the following figures do you think the hypothesis has underfit the training set?\n",
    "![](pictures\\4.png)"
   ]
  }
 ],
 "metadata": {
  "kernelspec": {
   "display_name": "Python 2",
   "language": "python",
   "name": "python2"
  },
  "language_info": {
   "codemirror_mode": {
    "name": "ipython",
    "version": 2
   },
   "file_extension": ".py",
   "mimetype": "text/x-python",
   "name": "python",
   "nbconvert_exporter": "python",
   "pygments_lexer": "ipython2",
   "version": "2.7.11"
  }
 },
 "nbformat": 4,
 "nbformat_minor": 0
}
