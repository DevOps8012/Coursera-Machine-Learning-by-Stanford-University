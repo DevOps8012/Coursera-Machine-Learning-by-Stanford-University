{
 "cells": [
  {
   "cell_type": "markdown",
   "metadata": {},
   "source": [
    "1. Suppose that you have trained a logistic regression classifier, and it outputs on a new example x a prediction hθ(x) = 0.7. This means (check all that apply):\n",
    "    - Our estimate for P(y=0|x;θ) is 0.3.\n",
    "    - Our estimate for P(y=1|x;θ) is 0.7.\n",
    "2. Suppose you have the following training set, and fit a logistic regression classifier h_\\theta(x) = g(\\theta_0 + \\theta_1x_1 + \\theta_2 x_2).\n",
    "![](https://github.com/amarsic1990/Coursera-Machine-Learning-by-Stanford-University/blob/master/Week%203/pictures/1.PNG?raw=true)\n",
    "\n",
    "    - J(θ) will be a convex function, so gradient descent should converge to the global minimum.\n",
    "    - Adding polynomial features (e.g., instead using hθ(x)=g(θ0+θ1x1+θ2x2+θ3x21+θ4x1x2+θ5x22) ) could increase how well we can fit the training data.\n",
    "3. For logistic regression, the gradient is given by ∂∂θjJ(θ)=∑mi=1(hθ(x(i))−y(i))x(i)j. Which of these is a correct gradient descent update for logistic regression with a learning rate of α? Check all that apply.\n",
    "    - θ:=θ−α1m∑mi=1(hθ(x(i))−y(i))x(i).\n",
    "    - θ:=θ−α1m∑mi=1(11+e−θTx(i)−y(i))x(i).\n",
    "4. Which of the following statements are true? Check all that apply.\n",
    "    - The sigmoid function g(z)=11+e−z is never greater than one (>1).\n",
    "    - The cost function J(θ) for logistic regression trained with m≥1 examples is always greater than or equal to zero.\n",
    "5. Suppose you train a logistic classifier hθ(x)=g(θ0+θ1x1+θ2x2). Suppose θ0=−6,θ1=1,θ2=0. Which of the following figures represents the decision boundary found by your classifier?\n",
    "\n",
    "![](https://github.com/amarsic1990/Coursera-Machine-Learning-by-Stanford-University/blob/master/Week%203/pictures/2.PNG?raw=true)"
   ]
  }
 ],
 "metadata": {
  "kernelspec": {
   "display_name": "Python 3",
   "language": "python",
   "name": "python3"
  },
  "language_info": {
   "codemirror_mode": {
    "name": "ipython",
    "version": 3
   },
   "file_extension": ".py",
   "mimetype": "text/x-python",
   "name": "python",
   "nbconvert_exporter": "python",
   "pygments_lexer": "ipython3",
   "version": "3.5.1"
  }
 },
 "nbformat": 4,
 "nbformat_minor": 0
}
