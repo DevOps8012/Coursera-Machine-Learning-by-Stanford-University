{
 "cells": [
  {
   "cell_type": "markdown",
   "metadata": {},
   "source": [
    "1. Let two matrices be A=[1 −2; −4 1],B=[0 5; 3 8]. What is A - B?\n",
    "    - [1 −7; −7 −7]\n",
    "2. Let x=[5 5 2 7]. What is 2∗x?\n",
    "    - [10 10 4 14]\n",
    "3. Let u be a 3-dimensional vector, where specifically u = [8 1 4]\n",
    "    - [8; 1; 4]\n",
    "4. Let u and v be 3-dimensional vectors, where specifically u = [-3 4 3] and v = [3 1 5]. What is uTv? (Hint: uT is a 1x3 dimensional matrix, and v can also be seen as a 3x1 matrix. The answer you want can be obtained by taking the matrix product of uT and v.)\n",
    "    - 10\n",
    "5. Let A and B be 3x3 (square) matrices. Which of the following must necessarily hold true?\n",
    "    - A+B=B+A\n",
    "    - If v is a 3 dimensional vector, then A∗B∗v is a 3 dimensional vector."
   ]
  }
 ],
 "metadata": {
  "kernelspec": {
   "display_name": "Python 2",
   "language": "python",
   "name": "python2"
  },
  "language_info": {
   "codemirror_mode": {
    "name": "ipython",
    "version": 2
   },
   "file_extension": ".py",
   "mimetype": "text/x-python",
   "name": "python",
   "nbconvert_exporter": "python",
   "pygments_lexer": "ipython2",
   "version": "2.7.11"
  }
 },
 "nbformat": 4,
 "nbformat_minor": 0
}
