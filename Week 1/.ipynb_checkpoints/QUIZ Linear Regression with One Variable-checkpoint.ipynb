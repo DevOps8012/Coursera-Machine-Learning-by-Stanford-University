{
 "cells": [
  {
   "cell_type": "markdown",
   "metadata": {},
   "source": [
    "1. Consider the problem of predicting how well a student does in her second year of college/university, given how well they did in their first year. Specifically, let x be equal to the number of \"A\" grades (including A-. A and A+ grades) that a student receives in their first year of college (freshmen year). We would like to predict the value of y, which we define as the number of \"A\" grades they get in their second year (sophomore year). Questions 1 through 4 will use the following training set of a small sample of different students' performances. Here each row is one training example. Recall that in linear regression, our hypothesis is hθ(x)=θ0+θ1x, and we use m to denote the number of training examples.\n",
    "![](pictures\\1.png)\n",
    "For the training set given above, what is the value of m? In the box below, please enter your answer (which should be a number between 0 and 10).\n",
    "    - 4\n",
    "2. For this question, continue to assume that we are using the training set given above. Recall our definition of the cost function was J(θ0,θ1)=12m∑mi=1(hθ(x(i))−y(i))2. What is J(0,1)? In the box below, please enter your answer (use decimals instead of fractions if necessary, e.g., 1.5).\n",
    "    - 0.5\n",
    "3. Suppose we set θ0=−1,θ1=0.5. What is hθ(4)?\n",
    "    - 1\n",
    "4. Let f be some function so that f(θ0,θ1) outputs a number. For this problem, f is some arbitrary/unknown smooth function (not necessarily the cost function of linear regression, so f may have local optima). Suppose we use gradient descent to try to minimize f(θ0,θ1) as a function of θ0 and θ1. Which of the following statements are true? (Check all that apply.)\n",
    "    - If θ0 and θ1 are initialized at a local minimum, then one iteration will not change their values.\n",
    "    - If the learning rate is too small, then gradient descent may take a very long time to converge.\n",
    "5. Suppose that for some linear regression problem (say, predicting housing prices as in the lecture), we have some training set, and for our training set we managed to find some θ0, θ1 such that J(θ0,θ1)=0. Which of the statements below must then be true? (Check all that apply.)\n",
    "    - For these values of θ0 and θ1 that satisfy J(θ0,θ1)=0, we have that hθ(x(i)) = y(i) for every training example (x(i), y(i))"
   ]
  }
 ],
 "metadata": {
  "kernelspec": {
   "display_name": "Python 2",
   "language": "python",
   "name": "python2"
  },
  "language_info": {
   "codemirror_mode": {
    "name": "ipython",
    "version": 2
   },
   "file_extension": ".py",
   "mimetype": "text/x-python",
   "name": "python",
   "nbconvert_exporter": "python",
   "pygments_lexer": "ipython2",
   "version": "2.7.11"
  }
 },
 "nbformat": 4,
 "nbformat_minor": 0
}
