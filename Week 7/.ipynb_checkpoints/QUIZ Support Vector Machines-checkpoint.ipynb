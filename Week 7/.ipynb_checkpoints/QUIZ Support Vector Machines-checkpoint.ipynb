{
 "cells": [
  {
   "cell_type": "markdown",
   "metadata": {},
   "source": [
    "1. Suppose you have trained an SVM classifier with a Gaussian kernel, and it learned the following decision boundary on the training set:\n",
    "![](pictures\\1.png)\n",
    "    - It would be reasonable to try decreasing C. It would also be reasonable to try increasing σ2.\n",
    "2. The formula for the Gaussian kernel is given by similarity(x,l(1))=exp(−||x−l(1)||22σ2). The figure below shows a plot of f1=similarity(x,l(1)) when σ2=1.\n",
    "![](pictures\\2.png)\n",
    "![](pictures\\3.png)\n",
    "3. The SVM solves minθ C∑mi=1y(i)cost1(θTx(i))+(1−y(i))cost0(θTx(i))+∑nj=1θ2j where the functions cost0(z) and cost1(z) look like this:\n",
    "![](pictures\\4.png)\n",
    "The first term in the objective is: C∑mi=1y(i)cost1(θTx(i))+(1−y(i))cost0(θTx(i)). This first term will be zero if two of the following four conditions hold true. Which are the two conditions that would guarantee that this term equals zero?\n",
    "    - For every example with y(i)=0, we have that θTx(i)≤−1.\n",
    "    - For every example with y(i)=1, we have that θTx(i)≥1.\n",
    "4. Suppose you have a dataset with n = 10 features and m = 5000 examples. After training your logistic regression classifier with gradient descent, you find that it has underfit the training set and does not achieve the desired performance on the training or cross validation sets. Which of the following might be promising steps to take? Check all that apply.\n",
    "    - Create / add new polynomial features.\n",
    "    - Use an SVM with a Gaussian Kernel.\n",
    "5. Which of the following statements are true? Check all that apply.\n",
    "    - The maximum value of the Gaussian kernel (i.e., sim(x,l(1))) is 1.\n",
    "    - It is important to perform feature normalization before using the Gaussian kernel."
   ]
  }
 ],
 "metadata": {
  "kernelspec": {
   "display_name": "Python 2",
   "language": "python",
   "name": "python2"
  },
  "language_info": {
   "codemirror_mode": {
    "name": "ipython",
    "version": 2
   },
   "file_extension": ".py",
   "mimetype": "text/x-python",
   "name": "python",
   "nbconvert_exporter": "python",
   "pygments_lexer": "ipython2",
   "version": "2.7.11"
  }
 },
 "nbformat": 4,
 "nbformat_minor": 0
}
