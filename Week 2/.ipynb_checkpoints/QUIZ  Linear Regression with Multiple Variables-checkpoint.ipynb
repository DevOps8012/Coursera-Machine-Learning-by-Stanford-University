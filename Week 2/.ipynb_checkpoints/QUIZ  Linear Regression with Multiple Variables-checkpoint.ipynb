{
 "cells": [
  {
   "cell_type": "markdown",
   "metadata": {},
   "source": [
    "1. Suppose m=4 students have taken some class, and the class had a midterm exam and a final exam. You have collected a dataset of their scores on the two exams, which is as follows:\n",
    "![](pictures\\1.png)\n",
    "You'd like to use polynomial regression to predict a student's final exam score from their midterm exam score. Concretely, suppose you want to fit a model of the form hθ(x) = θ0 + θ1x1 + θ2x2 where x1 is the midterm score and x2 is (midterm score)^2. Further, you plan to use both feature scaling (dividing by the \"max-min\", or range, of a feature) and mean normalization. What is the normalized feature x2(2) ? (Hint: midterm = 89, final = 96 is training example 1.) Please round off your answer to two decimal places and enter in the text box below.\n",
    "    - -0.37\n",
    "2. You run gradient descent for 15 iterations with α = 0.3 and compute J(θ) after each iteration. You find that the value of J(θ) decreases slowly and is still decreasing after 15 iterations. Based on this, which of the following conclusions seems most plausible?\n",
    "    - Rather than use the current value of α, it'd be more promising to try a larger value of α(say α = 1.0).\n",
    "3. Suppose you have m = 14 training examples with n = 3 features (excluding the additional all-ones feature for the intercept term, which you should add). The normal equation is θ = (X^TX)^-1X^Ty. For the given values of m and n, what are the dimensions of θ,X, and y in this equation?\n",
    "    - \u001a X is 14 X 4, y is 14 X 1, θ is 4 X 1\n",
    "4. Suppose you have a dataset with m = 1000000 examples and n = 200000 features for each example. You want to use multivariate linear regression to fit the parameters θ to our data. Should you prefer gradient descent or the normal equation?\n",
    "    - Gradient descent, since (X^TX)^-1 will be very slow to compute in the normal equation.\n",
    "5. Which of the following are reasons for using feature scaling?\n",
    "    - It speeds up gradient descent by making it require fewer iterations to get to a good solution."
   ]
  }
 ],
 "metadata": {
  "kernelspec": {
   "display_name": "Python 2",
   "language": "python",
   "name": "python2"
  },
  "language_info": {
   "codemirror_mode": {
    "name": "ipython",
    "version": 2
   },
   "file_extension": ".py",
   "mimetype": "text/x-python",
   "name": "python",
   "nbconvert_exporter": "python",
   "pygments_lexer": "ipython2",
   "version": "2.7.11"
  }
 },
 "nbformat": 4,
 "nbformat_minor": 0
}
