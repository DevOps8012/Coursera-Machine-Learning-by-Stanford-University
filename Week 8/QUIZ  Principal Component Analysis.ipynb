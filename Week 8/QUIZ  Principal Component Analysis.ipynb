{
 "cells": [
  {
   "cell_type": "markdown",
   "metadata": {},
   "source": [
    "1. Consider the following 2D dataset:\n",
    "![](https://github.com/amarsic1990/Coursera-Machine-Learning-by-Stanford-University/blob/master/Week%208/pictures/1.PNG?raw=true)\n",
    "Which of the following figures correspond to possible values that PCA may return for u(1) (the first eigenvector / first principal component)? Check all that apply (you may have to check more than one figure).\n",
    "![](https://github.com/amarsic1990/Coursera-Machine-Learning-by-Stanford-University/blob/master/Week%208/pictures/2.PNG?raw=true)\n",
    "![](https://github.com/amarsic1990/Coursera-Machine-Learning-by-Stanford-University/blob/master/Week%208/pictures/3.PNG?raw=true)\n",
    "2. Which of the following is a reasonable way to select the number of principal components k? (Recall that n is the dimensionality of the input data and m is the number of input examples.)\n",
    "    - Choose k to be the smallest value so that at least 99% of the variance is retained.\n",
    "3. Suppose someone tells you that they ran PCA in such a way that \"95% of the variance was retained.\" What is an equivalent statement to this?\n",
    "![](https://github.com/amarsic1990/Coursera-Machine-Learning-by-Stanford-University/blob/master/Week%208/pictures/4.PNG?raw=true)\n",
    "4. Which of the following statements are true? Check all that apply.\n",
    "    - Even if all the input features are on very similar scales, we should still perform mean normalization (so that each feature has zero mean) before running PCA.\n",
    "    - If the input features are on very different scales, it is a good idea to perform feature scaling before applying PCA.\n",
    "5. Which of the following are recommended applications of PCA? Select all that apply.\n",
    "    - Data compression: Reduce the dimension of your data, so that it takes up less memory / disk space.\n",
    "    - Data visualization: Reduce data to 2D (or 3D) so that it can be plotted."
   ]
  }
 ],
 "metadata": {
  "kernelspec": {
   "display_name": "Python 2",
   "language": "python",
   "name": "python2"
  },
  "language_info": {
   "codemirror_mode": {
    "name": "ipython",
    "version": 2
   },
   "file_extension": ".py",
   "mimetype": "text/x-python",
   "name": "python",
   "nbconvert_exporter": "python",
   "pygments_lexer": "ipython2",
   "version": "2.7.11"
  }
 },
 "nbformat": 4,
 "nbformat_minor": 0
}
