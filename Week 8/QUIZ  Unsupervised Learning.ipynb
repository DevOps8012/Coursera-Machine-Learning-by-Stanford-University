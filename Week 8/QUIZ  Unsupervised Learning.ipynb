{
 "cells": [
  {
   "cell_type": "markdown",
   "metadata": {},
   "source": [
    "1. For which of the following tasks might K-means clustering be a suitable algorithm? Select all that apply.\n",
    "    - Given a set of news articles from many different news websites, find out what are the main topics covered.\n",
    "    - From the user usage patterns on a website, figure out what different groups of users exist.\n",
    "2. Suppose we have three cluster centroids μ1=[12], μ2=[−30] and μ3=[42]. Furthermore, we have a training example x(i)=[-12]. After a cluster assignment step, what will c(i) be?\n",
    "    - c(i) = 1\n",
    "3. K-means is an iterative algorithm, and two of the following steps are repeatedly carried out in its inner-loop. Which two?\n",
    "    - The cluster assignment step, where the parameters c(i) are updated.\n",
    "    - Move the cluster centroids, where the centroids μk are updated.\n",
    "4. Suppose you have an unlabeled dataset {x(1),…,x(m)}. You run K-means with 50 different random initializations, and obtain 50 different clusterings of the data. What is the recommended way for choosing which one of these 50 clusterings to use?\n",
    "    - For each of the clusterings, compute 1m∑mi=1||x(i)−μc(i)||2, and pick the one that minimizes this.\n",
    "5. Which of the following statements are true? Select all that apply.\n",
    "    - For some datasets, the \"right\" or \"correct\" value of K (the number of clusters) can be ambiguous, and hard even for a human expert looking carefully at the data to decide.\n",
    "    - If we are worried about K-means getting stuck in bad local optima, one way to ameliorate (reduce) this problem is if we try using multiple random initializations."
   ]
  }
 ],
 "metadata": {
  "kernelspec": {
   "display_name": "Python 2",
   "language": "python",
   "name": "python2"
  },
  "language_info": {
   "codemirror_mode": {
    "name": "ipython",
    "version": 2
   },
   "file_extension": ".py",
   "mimetype": "text/x-python",
   "name": "python",
   "nbconvert_exporter": "python",
   "pygments_lexer": "ipython2",
   "version": "2.7.11"
  }
 },
 "nbformat": 4,
 "nbformat_minor": 0
}
