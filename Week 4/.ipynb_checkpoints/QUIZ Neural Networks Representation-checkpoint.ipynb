{
 "cells": [
  {
   "cell_type": "markdown",
   "metadata": {},
   "source": [
    "1. Which of the following statements are true? Check all that apply.\n",
    "    - Any logical function over binary-valued (0 or 1) inputs x1 and x2 can be (approximately) represented using some neural network.\n",
    "    - The activation values of the hidden units in a neural network, with the sigmoid activation function applied at every layer, are always in the range (0, 1). \n",
    "2. Consider the following neural network which takes two binary-valued inputs x1,x2∈{0,1} and outputs hΘ(x). Which of the following logical functions does it (approximately) compute?\n",
    "![](pictures\\1.png)\n",
    "            - OR\n",
    "3. Consider the neural network given below. Which of the following equations correctly computes the activation a(3)1? Note: g(z) is the sigmoid activation function.\n",
    "![](pictures\\2.png)\n",
    "            - a(3)1=g(Θ(2)1,0a(2)0+Θ(2)1,1a(2)1+Θ(2)1,2a(2)2)\n",
    "4. You have the following neural network:\n",
    "![](pictures\\3.png)\n",
    "You'd like to compute the activations of the hidden layer a(2)∈R3. One way to do so is the following Octave code:\n",
    "![](pictures\\4.png)\n",
    "You want to have a vectorized implementation of this (i.e., one that does not use for loops). Which of the following implementations correctly compute a(2)? Check all that apply.\n",
    "    - z = Theta1 * x; a2 = sigmoid (z);\n",
    "5. You are using the neural network pictured below and have learned the parameters Θ(1)=[11−1.55.13.72.3] (used to compute a(2)) and Θ(2)=[10.6−0.8] (used to compute a(3)} as a function of a(2)). Suppose you swap the parameters for the first hidden layer between its two units so Θ(1)=[115.1−1.52.33.7] and also swap the output layer so Θ(2)=[1−0.80.6]. How will this change the value of the output hΘ(x)?\n",
    "![](pictures\\5.png)\n",
    "    - It will stay the same."
   ]
  }
 ],
 "metadata": {
  "kernelspec": {
   "display_name": "Python 2",
   "language": "python",
   "name": "python2"
  },
  "language_info": {
   "codemirror_mode": {
    "name": "ipython",
    "version": 2
   },
   "file_extension": ".py",
   "mimetype": "text/x-python",
   "name": "python",
   "nbconvert_exporter": "python",
   "pygments_lexer": "ipython2",
   "version": "2.7.11"
  }
 },
 "nbformat": 4,
 "nbformat_minor": 0
}
