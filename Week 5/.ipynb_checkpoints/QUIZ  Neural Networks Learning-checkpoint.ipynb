{
 "cells": [
  {
   "cell_type": "markdown",
   "metadata": {},
   "source": [
    "1. You are training a three layer neural network and would like to use backpropagation to compute the gradient of the cost function. In the backpropagation algorithm, one of the steps is to update Δ(2)ij:=Δ(2)ij+δ(3)i∗(a(2))j for every i,j. Which of the following is a correct vectorization of this step?\n",
    "    - Δ(2):=Δ(2)+δ(3)∗(a(2))T\n",
    "2. Suppose Theta1 is a 5x3 matrix, and Theta2 is a 4x6 matrix. You set thetaVec=[Theta1(:);Theta2(:)]. Which of the following correctly recovers Theta2?\n",
    "    - reshape(thetaVec(16:39),4,6)\n",
    "3. Let J(θ)=3θ4+4. Let θ=1, and ϵ=0.01. Use the formula J(θ+ϵ)−J(θ−ϵ)2ϵ to numerically compute an approximation to the derivative at θ=1. What value do you get? (When θ=1, the true/exact derivative is dJ(θ)dθ=12.)\n",
    "    - 12.0012\n",
    "4. Which of the following statements are true? Check all that apply.\n",
    "    - Using gradient checking can help verify if one's implementation of backpropagation is bug-free.\n",
    "    - If our neural network overfits the training set, one reasonable step to take is to increase the regularization parameter λ.\n",
    "5. Which of the following statements are true? Check all that apply.\n",
    "    - If we are training a neural network using gradient descent, one reasonable \"debugging\" step to make sure it is working is to plot J(Θ) as a function of the number of iterations, and make sure it is decreasing (or at least non-increasing) after each iteration.\n",
    "    - Suppose we have a correct implementation of backpropagation, and are training a neural network using gradient descent. Suppose we plot J(Θ) as a function of the number of iterations, and find that it is increasing rather than decreasing. One possible cause of this is that the learning rate α is too large."
   ]
  }
 ],
 "metadata": {
  "kernelspec": {
   "display_name": "Python 2",
   "language": "python",
   "name": "python2"
  },
  "language_info": {
   "codemirror_mode": {
    "name": "ipython",
    "version": 2
   },
   "file_extension": ".py",
   "mimetype": "text/x-python",
   "name": "python",
   "nbconvert_exporter": "python",
   "pygments_lexer": "ipython2",
   "version": "2.7.11"
  }
 },
 "nbformat": 4,
 "nbformat_minor": 0
}
